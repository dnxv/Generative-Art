{
  "cells": [
    {
      "cell_type": "code",
      "execution_count": null,
      "metadata": {
        "id": "tA8X8UQ1bBbh"
      },
      "outputs": [],
      "source": [
        "# citations of orignals:\n",
        "# \"\"\"\n",
        "# first two attempts were DCGANs (result were mode collapse)\n",
        "# MNIST DCGAN by TensorFlow Authors: https://colab.research.google.com/github/tensorflow/docs/blob/master/site/en/tutorials/generative/dcgan.ipynb#scrollTo=ZBwyU6t2Wf3g\n",
        "# Monet_ Dataset DCGAN architecture: https://www.kaggle.com/code/thuylinh225/generate-monet-images-using-dcgan\n",
        "# naming convention for models: https://github.com/thashimoto1998/DCGAN/blob/master/dcgan.py\n",
        "#\n",
        "# third attempt is WGAN-GP (better results)\n",
        "# WGAN-GP video: https://www.youtube.com/watch?v=pG0QZ7OddX4&list=PLhhyoLH6IjfwIp8bZnzX8QR30TRcHO8Va&index=5\n",
        "# WGAN-GP paper: https://arxiv.org/abs/1704.00028\n",
        "# WGAN-GP github: https://github.com/aladdinpersson/Machine-Learning-Collection/tree/master/ML/Pytorch/GANs/4.%20WGAN-GP\n",
        "# \"\"\""
      ]
    },
    {
      "cell_type": "code",
      "execution_count": null,
      "metadata": {
        "id": "390RaCbXKx-a"
      },
      "outputs": [],
      "source": [
        "###############################\n",
        "###         Updates         ###\n",
        "###############################\n",
        "\n",
        "#removed text cells\n",
        "# added WGAN-GP\n",
        "# added outputs folder to save GIFs"
      ]
    },
    {
      "cell_type": "code",
      "execution_count": 11,
      "metadata": {
        "colab": {
          "base_uri": "https://localhost:8080/"
        },
        "id": "YfIk2es3hJEd",
        "outputId": "4edb1d52-73c1-4672-a979-0fd75fdd2e29"
      },
      "outputs": [
        {
          "name": "stdout",
          "output_type": "stream",
          "text": [
            "Collecting tensorflow_docs\n",
            "  Downloading tensorflow_docs-2024.2.5.73858-py3-none-any.whl (182 kB)\n",
            "\u001b[2K     \u001b[90m━━━━━━━━━━━━━━━━━━━━━━━━━━━━━━━━━━━━━━━━\u001b[0m \u001b[32m182.5/182.5 kB\u001b[0m \u001b[31m1.7 MB/s\u001b[0m eta \u001b[36m0:00:00\u001b[0m\n",
            "\u001b[?25hCollecting astor (from tensorflow_docs)\n",
            "  Downloading astor-0.8.1-py2.py3-none-any.whl (27 kB)\n",
            "Requirement already satisfied: absl-py in /usr/local/lib/python3.10/dist-packages (from tensorflow_docs) (1.4.0)\n",
            "Requirement already satisfied: jinja2 in /usr/local/lib/python3.10/dist-packages (from tensorflow_docs) (3.1.3)\n",
            "Requirement already satisfied: nbformat in /usr/local/lib/python3.10/dist-packages (from tensorflow_docs) (5.10.4)\n",
            "Requirement already satisfied: protobuf>=3.12 in /usr/local/lib/python3.10/dist-packages (from tensorflow_docs) (3.20.3)\n",
            "Requirement already satisfied: pyyaml in /usr/local/lib/python3.10/dist-packages (from tensorflow_docs) (6.0.1)\n",
            "Requirement already satisfied: MarkupSafe>=2.0 in /usr/local/lib/python3.10/dist-packages (from jinja2->tensorflow_docs) (2.1.5)\n",
            "Requirement already satisfied: fastjsonschema>=2.15 in /usr/local/lib/python3.10/dist-packages (from nbformat->tensorflow_docs) (2.19.1)\n",
            "Requirement already satisfied: jsonschema>=2.6 in /usr/local/lib/python3.10/dist-packages (from nbformat->tensorflow_docs) (4.19.2)\n",
            "Requirement already satisfied: jupyter-core!=5.0.*,>=4.12 in /usr/local/lib/python3.10/dist-packages (from nbformat->tensorflow_docs) (5.7.2)\n",
            "Requirement already satisfied: traitlets>=5.1 in /usr/local/lib/python3.10/dist-packages (from nbformat->tensorflow_docs) (5.7.1)\n",
            "Requirement already satisfied: attrs>=22.2.0 in /usr/local/lib/python3.10/dist-packages (from jsonschema>=2.6->nbformat->tensorflow_docs) (23.2.0)\n",
            "Requirement already satisfied: jsonschema-specifications>=2023.03.6 in /usr/local/lib/python3.10/dist-packages (from jsonschema>=2.6->nbformat->tensorflow_docs) (2023.12.1)\n",
            "Requirement already satisfied: referencing>=0.28.4 in /usr/local/lib/python3.10/dist-packages (from jsonschema>=2.6->nbformat->tensorflow_docs) (0.35.0)\n",
            "Requirement already satisfied: rpds-py>=0.7.1 in /usr/local/lib/python3.10/dist-packages (from jsonschema>=2.6->nbformat->tensorflow_docs) (0.18.0)\n",
            "Requirement already satisfied: platformdirs>=2.5 in /usr/local/lib/python3.10/dist-packages (from jupyter-core!=5.0.*,>=4.12->nbformat->tensorflow_docs) (4.2.1)\n",
            "Installing collected packages: astor, tensorflow_docs\n",
            "Successfully installed astor-0.8.1 tensorflow_docs-2024.2.5.73858\n"
          ]
        }
      ],
      "source": [
        "import tensorflow as tf\n",
        "import glob\n",
        "import os\n",
        "import matplotlib.image as mpimg\n",
        "import matplotlib.pyplot as plt\n",
        "import numpy as np\n",
        "\n",
        "import torch\n",
        "import torch.nn as nn\n",
        "import torch.optim as optim\n",
        "import torchvision\n",
        "import torchvision.datasets as datasets\n",
        "from torch.utils.data import DataLoader\n",
        "from torch.utils.tensorboard import SummaryWriter\n",
        "import imageio\n",
        "\n",
        "!pip install tensorflow_docs\n",
        "import tensorflow_docs.vis.embed as embed\n",
        "import torchvision.transforms as transforms"
      ]
    },
    {
      "cell_type": "code",
      "execution_count": 12,
      "metadata": {
        "colab": {
          "base_uri": "https://localhost:8080/"
        },
        "id": "fXbx4sJpVx6I",
        "outputId": "6e62cb2f-1977-4511-b259-3ac30d84aa11"
      },
      "outputs": [
        {
          "name": "stdout",
          "output_type": "stream",
          "text": [
            "Cloning into 'ImageGeneration'...\n",
            "remote: Enumerating objects: 375, done.\u001b[K\n",
            "remote: Counting objects: 100% (70/70), done.\u001b[K\n",
            "remote: Compressing objects: 100% (42/42), done.\u001b[K\n",
            "remote: Total 375 (delta 27), reused 69 (delta 26), pack-reused 305\u001b[K\n",
            "Receiving objects: 100% (375/375), 49.93 MiB | 19.16 MiB/s, done.\n",
            "Resolving deltas: 100% (27/27), done.\n"
          ]
        }
      ],
      "source": [
        "#Gather images\n",
        "!git clone https://github.com/LyJacky/ImageGeneration.git"
      ]
    },
    {
      "cell_type": "code",
      "execution_count": null,
      "metadata": {
        "id": "HkkiY3ZaW-T-"
      },
      "outputs": [],
      "source": [
        "# import torchvision"
      ]
    },
    {
      "cell_type": "code",
      "execution_count": null,
      "metadata": {
        "colab": {
          "base_uri": "https://localhost:8080/"
        },
        "id": "TxWkfOQIW-T_",
        "outputId": "b655eed4-b565-4d82-87fd-554da4e89e22"
      },
      "outputs": [
        {
          "name": "stdout",
          "output_type": "stream",
          "text": [
            "cpu\n"
          ]
        }
      ],
      "source": [
        "# hyperparameters\n",
        "\n",
        "device = torch.device(\"cuda\" if torch.cuda.is_available() else \"cpu\")\n",
        "print(device)\n",
        "BATCH_SIZE = 32\n",
        "IMAGE_SIZE = 64\n",
        "CHANNELS_IMG = 3\n",
        "LAMBDA_GP = 10\n",
        "\n",
        "Z_DIM = 100\n",
        "FEATURES_GENERATOR = 64\n",
        "\n",
        "LEARNING_RATE = 1e-4\n",
        "FEATURES_DISCRIMINATOR = 64\n",
        "DISCRIMINATOR_ITERATIONS = 5\n",
        "\n",
        "transforms = torchvision.transforms.Compose(\n",
        "    [\n",
        "        torchvision.transforms.Resize(IMAGE_SIZE), # to 64\n",
        "        torchvision.transforms.ToTensor(),\n",
        "        torchvision.transforms.Normalize(\n",
        "            [0.5 for _ in range(CHANNELS_IMG)], [0.5 for _ in range(CHANNELS_IMG)]\n",
        "        ),\n",
        "    ]\n",
        ")"
      ]
    },
    {
      "cell_type": "code",
      "execution_count": null,
      "metadata": {
        "colab": {
          "base_uri": "https://localhost:8080/"
        },
        "id": "Y_H-bUthXefn",
        "outputId": "81817a29-250e-4dc8-fa1c-b9af69cb317d"
      },
      "outputs": [
        {
          "name": "stdout",
          "output_type": "stream",
          "text": [
            ".  ..  .config\tImageGeneration  outputs  sample_data\n"
          ]
        }
      ],
      "source": [
        "!ls -a"
      ]
    },
    {
      "cell_type": "code",
      "execution_count": null,
      "metadata": {
        "colab": {
          "base_uri": "https://localhost:8080/"
        },
        "id": "K1vdApVwW-UA",
        "outputId": "1e7e27e9-f20b-4508-f23c-b98fc83a0cd7"
      },
      "outputs": [
        {
          "name": "stdout",
          "output_type": "stream",
          "text": [
            "rm: cannot remove '/content/ImageGeneration/ImageGeneration/': No such file or directory\n",
            "rm: cannot remove '/content/ImageGeneration/.ipynb_checkpoints/': No such file or directory\n",
            "rm: cannot remove '/content/ImageGeneration/.git/': No such file or directory\n"
          ]
        }
      ],
      "source": [
        "!rm -r /content/ImageGeneration/ImageGeneration/\n",
        "!rm -r /content/ImageGeneration/.ipynb_checkpoints/\n",
        "!rm -r /content/ImageGeneration/.git/"
      ]
    },
    {
      "cell_type": "code",
      "execution_count": null,
      "metadata": {
        "id": "JQWU2sTvW-UA"
      },
      "outputs": [],
      "source": [
        "# if this error:\n",
        "# FileNotFoundError: Found no valid file [...] extensions are: .jpg, .jpeg, .png, .ppm, .bmp, .pgm, .tif, .tiff, .webp\n",
        "# then: make sure to not have image_at_epoch_0010.jpg in the folder\n",
        "\n",
        "monet_dataset = datasets.ImageFolder(root=\"/content/ImageGeneration/\", transform=transforms)\n",
        "dataloader = DataLoader(monet_dataset, batch_size=BATCH_SIZE, shuffle=True)"
      ]
    },
    {
      "cell_type": "code",
      "execution_count": null,
      "metadata": {
        "colab": {
          "base_uri": "https://localhost:8080/",
          "height": 406
        },
        "id": "egJq5gtbW-UB",
        "outputId": "e29a8a27-e9f2-4c41-d538-9e33cf084ad8"
      },
      "outputs": [
        {
          "data": {
            "image/png": "[encoded data removed]",
            "text/plain": [
              "<Figure size 640x480 with 1 Axes>"
            ]
          },
          "metadata": {},
          "output_type": "display_data"
        }
      ],
      "source": [
        "# show a sample\n",
        "plt.imshow((monet_dataset[1][0][2]))\n",
        "plt.axis('off')\n",
        "plt.show()"
      ]
    },
    {
      "cell_type": "code",
      "execution_count": null,
      "metadata": {
        "id": "5_vPVS86GPPH"
      },
      "outputs": [],
      "source": [
        "#############################\n",
        "###    WGAN-GP Original    ###\n",
        "#############################"
      ]
    },
    {
      "cell_type": "code",
      "execution_count": null,
      "metadata": {
        "id": "GwrQfmXMGWuf"
      },
      "outputs": [],
      "source": [
        "def gradient_penalty(discriminator, real, fake, device=\"cpu\"):\n",
        "  BATCH_SIZE, C, H, W = real.shape\n",
        "  epsilon = torch.rand((BATCH_SIZE, 1, 1, 1)).repeat(1, C, H, W).to(device)\n",
        "  interpolated_images = real * epsilon + fake * (1 - epsilon)\n",
        "\n",
        "  # calcuate discriminator scores\n",
        "  mixed_scores = discriminator(interpolated_images)\n",
        "\n",
        "  gradient = torch.autograd.grad(\n",
        "      inputs = interpolated_images,\n",
        "      outputs = mixed_scores,\n",
        "      grad_outputs = torch.ones_like(mixed_scores),\n",
        "      create_graph = True,\n",
        "      retain_graph = True,\n",
        "  )[0]\n",
        "\n",
        "  gradient = gradient.view(gradient.shape[0], -1)\n",
        "  gradient_penalty = torch.mean((gradient - 1) ** 2)\n",
        "  return gradient_penalty\n"
      ]
    },
    {
      "cell_type": "code",
      "execution_count": null,
      "metadata": {
        "id": "QiRi8_F-GWcU"
      },
      "outputs": [],
      "source": [
        "class Discriminator(nn.Module):\n",
        "  def __init__(self, channels_img, features_d):\n",
        "    super(Discriminator, self).__init__()\n",
        "    self.discriminator = nn.Sequential(\n",
        "\n",
        "        # Input Layer\n",
        "        nn.Conv2d(channels_img, features_d, kernel_size = 4, stride = 2, padding = 1),\n",
        "        nn.LeakyReLU(0.2),\n",
        "\n",
        "        # Second Layer\n",
        "        nn.Sequential(\n",
        "          nn.Conv2d(features_d, features_d * 2, kernel_size=4, stride=2, padding=1, bias=False,),\n",
        "          nn.InstanceNorm2d(features_d * 2, affine=True),\n",
        "          nn.LeakyReLU(0.2),\n",
        "        ),\n",
        "\n",
        "        # Third Layer\n",
        "        nn.Sequential(\n",
        "          nn.Conv2d(features_d * 2, features_d * 4, kernel_size=4, stride=2, padding=1, bias=False,),\n",
        "          nn.InstanceNorm2d(features_d * 4, affine=True),\n",
        "          nn.LeakyReLU(0.2),\n",
        "        ),\n",
        "\n",
        "        # Fourth Layer\n",
        "        nn.Sequential(\n",
        "          nn.Conv2d(features_d * 4, features_d * 8, kernel_size=4, stride=2, padding=1, bias=False,),\n",
        "          nn.InstanceNorm2d(features_d * 8, affine=True),\n",
        "          nn.LeakyReLU(0.2),\n",
        "        ),\n",
        "\n",
        "        # Output Layer is 4x4 (Conv2d turns into 1x1)\n",
        "        nn.Conv2d(features_d * 8, 1, kernel_size=4, stride=2, padding=0)\n",
        "    )\n",
        "\n",
        "\n",
        "  def forward(self, x):\n",
        "    return self.discriminator(x)"
      ]
    },
    {
      "cell_type": "code",
      "execution_count": null,
      "metadata": {
        "id": "8kuRf8GtZ-lP"
      },
      "outputs": [],
      "source": [
        "class Generator(nn.Module):\n",
        "  def __init__(self, channels_noise, channels_img, features_g):\n",
        "    super(Generator, self).__init__()\n",
        "    self.generator = nn.Sequential(\n",
        "\n",
        "        #  Input Layer\n",
        "        nn.Sequential(\n",
        "          nn.ConvTranspose2d(channels_noise, features_g * 16, kernel_size=4, stride=1, padding=0, bias=False,),\n",
        "          nn.BatchNorm2d(features_g * 16),\n",
        "          nn.ReLU(),\n",
        "        ),\n",
        "\n",
        "        #  Second Layer\n",
        "        nn.Sequential(\n",
        "          nn.ConvTranspose2d(features_g * 16, features_g * 8, kernel_size=4, stride=2, padding=1, bias=False,),\n",
        "          nn.BatchNorm2d(features_g * 8),\n",
        "          nn.ReLU(),\n",
        "        ),\n",
        "\n",
        "        #  Third Layer\n",
        "        nn.Sequential(\n",
        "          nn.ConvTranspose2d(features_g * 8, features_g * 4, kernel_size=4, stride=2, padding=1, bias=False,),\n",
        "          nn.BatchNorm2d(features_g * 4),\n",
        "          nn.ReLU(),\n",
        "        ),\n",
        "\n",
        "        #  Fourth Layer\n",
        "        nn.Sequential(\n",
        "          nn.ConvTranspose2d(features_g * 4, features_g * 2, kernel_size=4, stride=2, padding=1, bias=False,),\n",
        "          nn.BatchNorm2d(features_g * 2),\n",
        "          nn.ReLU(),\n",
        "        ),\n",
        "\n",
        "        #  Output Layer\n",
        "        nn.ConvTranspose2d(features_g * 2, channels_img, kernel_size=4, stride=2, padding=1),\n",
        "        nn.Tanh(),\n",
        "    )\n",
        "\n",
        "  def forward(self, x):\n",
        "    return self.generator(x)"
      ]
    },
    {
      "cell_type": "code",
      "execution_count": null,
      "metadata": {
        "id": "R0T9MvUTW-UE"
      },
      "outputs": [],
      "source": [
        "def initialize_weights(model):\n",
        "    # Initializes weights according to the DCGAN paper\n",
        "    for m in model.modules():\n",
        "        if isinstance(m, (nn.Conv2d, nn.ConvTranspose2d, nn.BatchNorm2d)):\n",
        "            nn.init.normal_(m.weight.data, 0.0, 0.02)"
      ]
    },
    {
      "cell_type": "code",
      "execution_count": null,
      "metadata": {
        "id": "bbjm69K4OJhV"
      },
      "outputs": [],
      "source": [
        "def save_checkpoints(state, filename=\"monet_wgan_gp.pth.tar\"):\n",
        "  print(\"=> Saving checkpoint\")\n",
        "  os.mkdir('/content/checkpoints/')\n",
        "  os.chdir('/content/checkpoints/')\n",
        "  torch.save(state, filename)\n",
        "\n",
        "def load_checpoint(checkpoint, generator, discriminator):\n",
        "  print(\"=> Loading checkpoint\")\n",
        "  os.chdir('/content/checkpoints/')\n",
        "  generator.load_state_dict(checkpoint['generator'])   # generator\n",
        "  discriminator.load_state_dict(checkpoint['discriminator']) # discriminator"
      ]
    },
    {
      "cell_type": "code",
      "execution_count": null,
      "metadata": {
        "id": "JhmouPDPUcn2"
      },
      "outputs": [],
      "source": [
        "def wgan_generate_images():\n",
        "    noise = tf.random.normal([BATCH_SIZE, Z_DIM])\n",
        "    # predictions = generator.predict(noise)\n",
        "    fake = generator(noise)\n",
        "    return fake\n",
        "\n",
        "def wgan_generate_and_plot_images():\n",
        "    image = wgan_generate_images()\n",
        "    generator_imgs = 0.5 * image + 0.5\n",
        "    fig = plt.figure(figsize=(10, 10))\n",
        "    for i in range(25):\n",
        "        plt.subplot(5, 5, i+1)\n",
        "        plt.imshow(generator_imgs[i, :, :, :])\n",
        "        plt.axis('off')\n",
        "    plt.show()"
      ]
    },
    {
      "cell_type": "code",
      "execution_count": null,
      "metadata": {
        "id": "S1akH1CeOJmh"
      },
      "outputs": [],
      "source": [
        "generator = Generator(Z_DIM, CHANNELS_IMG, FEATURES_GENERATOR).to(device)\n",
        "discriminator = Discriminator(CHANNELS_IMG, FEATURES_DISCRIMINATOR).to(device)\n",
        "initialize_weights(generator)\n",
        "initialize_weights(discriminator)\n",
        "\n",
        "opt_generator = optim.Adam(generator.parameters(), lr=LEARNING_RATE, betas=(0.0, 0.9))\n",
        "opt_discriminator = optim.Adam(discriminator.parameters(), lr=LEARNING_RATE, betas=(0.0, 0.9))\n",
        "\n",
        "fixed_noise = torch.randn(32, Z_DIM, 1, 1).to(device)\n",
        "step = 0"
      ]
    },
    {
      "cell_type": "code",
      "execution_count": null,
      "metadata": {
        "colab": {
          "base_uri": "https://localhost:8080/"
        },
        "id": "qRKAKV9NXF9c",
        "outputId": "b42c6f77-3a3c-423f-f201-b818d266302d"
      },
      "outputs": [
        {
          "data": {
            "text/plain": [
              "Generator(\n",
              "  (generator): Sequential(\n",
              "    (0): Sequential(\n",
              "      (0): ConvTranspose2d(100, 1024, kernel_size=(4, 4), stride=(1, 1), bias=False)\n",
              "      (1): BatchNorm2d(1024, eps=1e-05, momentum=0.1, affine=True, track_running_stats=True)\n",
              "      (2): ReLU()\n",
              "    )\n",
              "    (1): Sequential(\n",
              "      (0): ConvTranspose2d(1024, 512, kernel_size=(4, 4), stride=(2, 2), padding=(1, 1), bias=False)\n",
              "      (1): BatchNorm2d(512, eps=1e-05, momentum=0.1, affine=True, track_running_stats=True)\n",
              "      (2): ReLU()\n",
              "    )\n",
              "    (2): Sequential(\n",
              "      (0): ConvTranspose2d(512, 256, kernel_size=(4, 4), stride=(2, 2), padding=(1, 1), bias=False)\n",
              "      (1): BatchNorm2d(256, eps=1e-05, momentum=0.1, affine=True, track_running_stats=True)\n",
              "      (2): ReLU()\n",
              "    )\n",
              "    (3): Sequential(\n",
              "      (0): ConvTranspose2d(256, 128, kernel_size=(4, 4), stride=(2, 2), padding=(1, 1), bias=False)\n",
              "      (1): BatchNorm2d(128, eps=1e-05, momentum=0.1, affine=True, track_running_stats=True)\n",
              "      (2): ReLU()\n",
              "    )\n",
              "    (4): ConvTranspose2d(128, 3, kernel_size=(4, 4), stride=(2, 2), padding=(1, 1))\n",
              "    (5): Tanh()\n",
              "  )\n",
              ")"
            ]
          },
          "execution_count": 43,
          "metadata": {},
          "output_type": "execute_result"
        }
      ],
      "source": [
        "generator.train()"
      ]
    },
    {
      "cell_type": "code",
      "execution_count": null,
      "metadata": {
        "colab": {
          "base_uri": "https://localhost:8080/"
        },
        "id": "NqRTC3RQOJj5",
        "outputId": "33b29584-d4b5-4c12-97e5-60bddbe14dca"
      },
      "outputs": [
        {
          "data": {
            "text/plain": [
              "Discriminator(\n",
              "  (discriminator): Sequential(\n",
              "    (0): Conv2d(3, 64, kernel_size=(4, 4), stride=(2, 2), padding=(1, 1))\n",
              "    (1): LeakyReLU(negative_slope=0.2)\n",
              "    (2): Sequential(\n",
              "      (0): Conv2d(64, 128, kernel_size=(4, 4), stride=(2, 2), padding=(1, 1), bias=False)\n",
              "      (1): InstanceNorm2d(128, eps=1e-05, momentum=0.1, affine=True, track_running_stats=False)\n",
              "      (2): LeakyReLU(negative_slope=0.2)\n",
              "    )\n",
              "    (3): Sequential(\n",
              "      (0): Conv2d(128, 256, kernel_size=(4, 4), stride=(2, 2), padding=(1, 1), bias=False)\n",
              "      (1): InstanceNorm2d(256, eps=1e-05, momentum=0.1, affine=True, track_running_stats=False)\n",
              "      (2): LeakyReLU(negative_slope=0.2)\n",
              "    )\n",
              "    (4): Sequential(\n",
              "      (0): Conv2d(256, 512, kernel_size=(4, 4), stride=(2, 2), padding=(1, 1), bias=False)\n",
              "      (1): InstanceNorm2d(512, eps=1e-05, momentum=0.1, affine=True, track_running_stats=False)\n",
              "      (2): LeakyReLU(negative_slope=0.2)\n",
              "    )\n",
              "    (5): Conv2d(512, 1, kernel_size=(4, 4), stride=(2, 2))\n",
              "  )\n",
              ")"
            ]
          },
          "execution_count": 44,
          "metadata": {},
          "output_type": "execute_result"
        }
      ],
      "source": [
        "discriminator.train()"
      ]
    },
    {
      "cell_type": "code",
      "execution_count": null,
      "metadata": {
        "id": "UCfzqQLSQUJq"
      },
      "outputs": [],
      "source": [
        "EPOCHS = 5"
      ]
    },
    {
      "cell_type": "code",
      "execution_count": null,
      "metadata": {
        "colab": {
          "base_uri": "https://localhost:8080/"
        },
        "id": "pOOigZIfMa6f",
        "outputId": "f7129f0b-8851-41fe-8793-867c0efde266"
      },
      "outputs": [
        {
          "name": "stdout",
          "output_type": "stream",
          "text": [
            "mkdir: cannot create directory ‘/content/outputs’: File exists\n",
            "mkdir: cannot create directory ‘/content/outputs/first_wgan’: File exists\n"
          ]
        }
      ],
      "source": [
        "!PYTORCH_CUDA_ALLOC_CONF=expandable_segments:True\n",
        "!mkdir /content/outputs\n",
        "!mkdir /content/outputs/first_wgan"
      ]
    },
    {
      "cell_type": "code",
      "execution_count": null,
      "metadata": {
        "id": "DzKR2KcYMnLC"
      },
      "outputs": [],
      "source": [
        "noise_dim = 100\n",
        "num_examples_to_generate = 5\n",
        "\n",
        "# We will reuse this seed overtime to visualize progress in a GIF\n",
        "seed = torch.randn(num_examples_to_generate, noise_dim, 1, 1).to(device)"
      ]
    },
    {
      "cell_type": "code",
      "execution_count": null,
      "metadata": {
        "colab": {
          "background_save": true,
          "base_uri": "https://localhost:8080/",
          "height": 155
        },
        "id": "RrKpzUD1OJec",
        "outputId": "45795cd3-1c06-413d-eefd-80cc48915e43"
      },
      "outputs": [
        {
          "name": "stdout",
          "output_type": "stream",
          "text": [
            "EPOCH [0/5] Batch 0/10 Loss D: -24.3297, loss G: 31.9612\n"
          ]
        },
        {
          "data": {
            "image/png": "[encoded data removed]",
            "text/plain": [
              "<Figure size 640x480 with 1 Axes>"
            ]
          },
          "metadata": {},
          "output_type": "display_data"
        }
      ],
      "source": [
        "#training\n",
        "\n",
        "for epoch in range(EPOCHS):\n",
        "  for batch_idx, (real_img, _) in enumerate(dataloader):\n",
        "    real = real_img.to(device)\n",
        "    if len(real) < 32: # sometimes had tensor of size 12\n",
        "        break\n",
        "\n",
        "    for _ in range(DISCRIMINATOR_ITERATIONS):\n",
        "      noise = torch.randn(BATCH_SIZE, Z_DIM, 1, 1).to(device)\n",
        "      fake = generator(noise)\n",
        "      discriminator_real = discriminator(real).reshape(-1)\n",
        "      discriminator_fake = discriminator(fake).reshape(-1)\n",
        "      gp = gradient_penalty(discriminator, real, fake, device=device)\n",
        "      loss_discriminator = (\n",
        "          -(torch.mean(discriminator_real) - torch.mean(discriminator_fake)) + LAMBDA_GP*gp\n",
        "      )\n",
        "      discriminator.zero_grad()\n",
        "      loss_discriminator.backward(retain_graph=True)\n",
        "      opt_discriminator.step()\n",
        "\n",
        "    output = discriminator(fake).reshape(-1)\n",
        "    loss_generator = -torch.mean(output)\n",
        "    generator.zero_grad()\n",
        "    loss_generator.backward()\n",
        "    opt_generator.step()\n",
        "\n",
        "    #generate pics with random noise\n",
        "    with torch.no_grad():\n",
        "        img_grid_fake = torchvision.utils.make_grid(\n",
        "          fake[:5], normalize=True\n",
        "        )\n",
        "        plt.imshow(img_grid_fake.cpu().detach().numpy().transpose(1, 2, 0))\n",
        "        plt.axis('off')\n",
        "        if epoch % 5 == 0 and batch_idx == 0:\n",
        "          print(\n",
        "              f\"EPOCH [{epoch}/{EPOCHS}] Batch {batch_idx}/{len(dataloader)} Loss D: {loss_discriminator:.4f}, loss G: {loss_generator:.4f}\"\n",
        "          )\n",
        "          plt.show()\n",
        "\n",
        "    # generate with consistent seed/noise and save .png\n",
        "    with torch.no_grad():\n",
        "        if epoch % 2 == 0 and batch_idx == 0:\n",
        "          fake = generator(seed)\n",
        "          img_grid_fake = torchvision.utils.make_grid(\n",
        "            fake[:], normalize=True\n",
        "          )\n",
        "          plt.imshow(img_grid_fake.cpu().detach().numpy().transpose(1, 2, 0))\n",
        "          plt.axis('off')\n",
        "          plt.savefig('/content/outputs/first_wgan/image_at_epoch_{:04d}.png'.format(epoch + 1))\n",
        "\n",
        "    step += 1"
      ]
    },
    {
      "cell_type": "code",
      "execution_count": null,
      "metadata": {
        "id": "tEEUlHGuNUMy"
      },
      "outputs": [],
      "source": [
        "anim_file = 'wgan.gif'\n",
        "\n",
        "with imageio.get_writer(anim_file, mode='I') as writer:\n",
        "  filenames = glob.glob('/content/outputs/first_wgan/image*.png')\n",
        "  filenames = sorted(filenames)\n",
        "  for filename in filenames:\n",
        "    image = imageio.imread(filename)\n",
        "    writer.append_data(image)"
      ]
    },
    {
      "cell_type": "code",
      "execution_count": null,
      "metadata": {
        "id": "waUXybxzNaZ9"
      },
      "outputs": [],
      "source": [
        "import tensorflow_docs.vis.embed as embed\n",
        "embed.embed_file(anim_file)"
      ]
    },
    {
      "cell_type": "code",
      "execution_count": null,
      "metadata": {
        "id": "VDItBwGvNblK"
      },
      "outputs": [],
      "source": []
    },
    {
      "cell_type": "code",
      "execution_count": null,
      "metadata": {
        "id": "EkA_4HK_dJWz"
      },
      "outputs": [],
      "source": []
    },
    {
      "cell_type": "code",
      "execution_count": null,
      "metadata": {
        "id": "jPZA7j69NbhB"
      },
      "outputs": [],
      "source": []
    },
    {
      "cell_type": "code",
      "execution_count": null,
      "metadata": {
        "id": "MlUEfcCsNbd8"
      },
      "outputs": [],
      "source": []
    },
    {
      "cell_type": "code",
      "execution_count": null,
      "metadata": {
        "id": "oyyHrU8jNbZ7"
      },
      "outputs": [],
      "source": []
    },
    {
      "cell_type": "code",
      "execution_count": null,
      "metadata": {
        "id": "aizg2vVKNbWn"
      },
      "outputs": [],
      "source": []
    },
    {
      "cell_type": "code",
      "execution_count": 1,
      "metadata": {
        "id": "NI0Cvb9H2eVW"
      },
      "outputs": [],
      "source": [
        "#############################\n",
        "###    WGAN-GP Attempt    ###\n",
        "#############################"
      ]
    },
    {
      "cell_type": "code",
      "execution_count": 2,
      "metadata": {
        "colab": {
          "base_uri": "https://localhost:8080/",
          "height": 71
        },
        "id": "Ul58Ou-S2eSA",
        "outputId": "e9a2934f-6227-49c5-cf2c-aebf58abff31"
      },
      "outputs": [
        {
          "data": {
            "application/vnd.google.colaboratory.intrinsic+json": {
              "type": "string"
            },
            "text/plain": [
              "'\\ndataset = datasets.\\n\\n- change cpu in gradient_penalty?\\n- different learning rates for disc, gen\\n- keep image size\\nDISC_ITERATIONS = 10\\n- padding = 2 # used to be 1\\n- kernel size = 5\\n\\nFEATURES_DISC = 64?\\nFEATURES_GEN = 64?\\n\\ninit weights\\n\\nConstrain Critic Weights:\\nAfter each mini-batch update, limit the critic model weights to a specific range (e.g., [-0.01, 0.01]).\\nThis constraint prevents the critic from becoming too dominant and ensures stability during training.\\n'"
            ]
          },
          "execution_count": 2,
          "metadata": {},
          "output_type": "execute_result"
        }
      ],
      "source": [
        "\"\"\"\n",
        "dataset = datasets.\n",
        "\n",
        "- change cpu in gradient_penalty?\n",
        "- different learning rates for disc, gen\n",
        "- keep image size\n",
        "DISC_ITERATIONS = 10\n",
        "- padding = 2 # used to be 1\n",
        "- kernel size = 5\n",
        "\n",
        "FEATURES_DISC = 64?\n",
        "FEATURES_GEN = 64?\n",
        "\n",
        "init weights\n",
        "\n",
        "Constrain Critic Weights:\n",
        "After each mini-batch update, limit the critic model weights to a specific range (e.g., [-0.01, 0.01]).\n",
        "This constraint prevents the critic from becoming too dominant and ensures stability during training.\n",
        "\"\"\""
      ]
    },
    {
      "cell_type": "code",
      "execution_count": 13,
      "metadata": {
        "id": "jmBfyH_o2iOx"
      },
      "outputs": [],
      "source": [
        "def gradient_penalty(disc, real, fake, device=\"cpu\"):\n",
        "  BATCH_SIZE, C, H, W = real.shape\n",
        "  epsilon = torch.rand((BATCH_SIZE, 1, 1, 1)).repeat(1, C, H, W).to(device)\n",
        "  interpolated_images = real * epsilon + fake * (1 - epsilon)\n",
        "\n",
        "  # calcuate discriminator scores\n",
        "  mixed_scores = disc(interpolated_images)\n",
        "\n",
        "  gradient = torch.autograd.grad(\n",
        "      inputs = interpolated_images,\n",
        "      outputs = mixed_scores,\n",
        "      grad_outputs = torch.ones_like(mixed_scores),\n",
        "      create_graph = True,\n",
        "      retain_graph = True,\n",
        "  )[0]\n",
        "\n",
        "  gradient = gradient.view(gradient.shape[0], -1)\n",
        "  gradient_norm = gradient.norm(2, dim=1)\n",
        "  gradient_penalty = torch.mean((gradient - 1) ** 2)\n",
        "  return gradient_penalty\n"
      ]
    },
    {
      "cell_type": "code",
      "execution_count": 14,
      "metadata": {
        "id": "kFIsxe5e2iLn"
      },
      "outputs": [],
      "source": [
        "class Discriminator(nn.Module):\n",
        "  def __init__(self, channels_img, features_d):\n",
        "    super(Discriminator, self).__init__()\n",
        "    self.disc = nn.Sequential(\n",
        "        #                    3,         64,\n",
        "        nn.Conv2d(channels_img, features_d, kernel_size = 4, stride = 2, padding = 1),\n",
        "        nn.LeakyReLU(0.2),\n",
        "\n",
        "        #_block(in_channels, out_channels, kernel_size, stride, padding)\n",
        "        #                   64,            128,\n",
        "        self._block(features_d, features_d * 2, 4, 2, 1),\n",
        "        #                   64,            128,\n",
        "        self._block(features_d * 2, features_d * 4, 4, 2, 1),\n",
        "        #                   256,            512,\n",
        "        self._block(features_d * 4, features_d * 8, 4, 2, 1),\n",
        "\n",
        "        # output is 4x4 (Conv2d turns into 1x1)\n",
        "        #                    512,\n",
        "        nn.Conv2d(features_d * 8, 1, kernel_size=4, stride=2, padding=0)\n",
        "    )\n",
        "  def _block(self, in_channels, out_channels, kernel_size, stride, padding):\n",
        "    return nn.Sequential(\n",
        "        nn.Conv2d(\n",
        "            in_channels,\n",
        "            out_channels,\n",
        "            kernel_size,\n",
        "            stride,\n",
        "            padding,\n",
        "            bias=False,\n",
        "        ),\n",
        "        # nn.BatchNorm2d(out_channels),\n",
        "        nn.InstanceNorm2d(out_channels, affine=True),\n",
        "        nn.LeakyReLU(0.2),\n",
        "    )\n",
        "\n",
        "  def forward(self, x):\n",
        "    return self.disc(x)"
      ]
    },
    {
      "cell_type": "code",
      "execution_count": 15,
      "metadata": {
        "id": "ctK95O3J2iII"
      },
      "outputs": [],
      "source": [
        "class Generator(nn.Module):\n",
        "  def __init__(self, channels_noise, channels_img, features_g):\n",
        "    super(Generator, self).__init__()\n",
        "    self.net = nn.Sequential(\n",
        "        self._block(channels_noise, features_g * 16, 4, 1, 0),\n",
        "        self._block(features_g * 16, features_g * 8, 4, 2, 1),\n",
        "        self._block(features_g * 8, features_g * 4, 4, 2, 1),\n",
        "        self._block(features_g * 4, features_g * 2, 4, 2, 1),\n",
        "        nn.ConvTranspose2d(\n",
        "            features_g * 2, channels_img, kernel_size=4, stride=2, padding=1\n",
        "        ),\n",
        "        nn.Tanh(),\n",
        "    )\n",
        "  def _block(self, in_channels, out_channels, kernel_size, stride, padding):\n",
        "    return nn.Sequential(\n",
        "        nn.ConvTranspose2d(\n",
        "            in_channels,\n",
        "            out_channels,\n",
        "            kernel_size,\n",
        "            stride,\n",
        "            padding,\n",
        "            bias=False,\n",
        "        ),\n",
        "        nn.BatchNorm2d(out_channels),\n",
        "        nn.ReLU(),\n",
        "    )\n",
        "\n",
        "  def forward(self, x):\n",
        "    return self.net(x)\n",
        "\n",
        "\n",
        "def initialize_weights(model):\n",
        "    # Initializes weights according to the DCGAN paper\n",
        "    for m in model.modules():\n",
        "        if isinstance(m, (nn.Conv2d, nn.ConvTranspose2d, nn.BatchNorm2d)):\n",
        "            nn.init.normal_(m.weight.data, 0.0, 0.02)\n",
        "\n",
        "\n",
        "def test():\n",
        "    N, in_channels, H, W = 8, 3, 64, 64\n",
        "    noise_dim = 100\n",
        "    x = torch.randn((N, in_channels, H, W))\n",
        "    disc = Discriminator(in_channels, 8)\n",
        "    assert disc(x).shape == (N, 1, 1, 1), \"Discriminator test failed\"\n",
        "    gen = Generator(noise_dim, in_channels, 8)\n",
        "    z = torch.randn((N, noise_dim, 1, 1))\n",
        "    assert gen(z).shape == (N, in_channels, H, W), \"Generator test failed\"\n"
      ]
    },
    {
      "cell_type": "code",
      "execution_count": 16,
      "metadata": {
        "id": "5e0F0bva2iEQ"
      },
      "outputs": [],
      "source": [
        "import torchvision.transforms as transforms"
      ]
    },
    {
      "cell_type": "code",
      "execution_count": 17,
      "metadata": {
        "colab": {
          "base_uri": "https://localhost:8080/"
        },
        "id": "cGFFpTq42iBu",
        "outputId": "0d984258-38e8-4ee7-ddb7-2c860859e38a"
      },
      "outputs": [
        {
          "name": "stdout",
          "output_type": "stream",
          "text": [
            "cpu\n"
          ]
        }
      ],
      "source": [
        "# hyperparameters\n",
        "\n",
        "device = torch.device(\"cuda\" if torch.cuda.is_available() else \"cpu\")\n",
        "print(device)\n",
        "# LEARNING_RATE = 1e-4\n",
        "DISCRIMINATOR_LEARNING_RATE = 1e-4\n",
        "GENERATOR_LEARNING_RATE = 5e-5\n",
        "BATCH_SIZE = 32\n",
        "CHANNELS_IMG = 3\n",
        "Z_DIM = 100\n",
        "IMAGE_SIZE = 64\n",
        "FEATURES_DISC = 64\n",
        "FEATURES_GEN = 64\n",
        "DISC_ITERATIONS = 5 # used to be 5\n",
        "LAMBDA_GP = 10 # Loss weight for gradient penalty\n",
        "\n",
        "transforms = transforms.Compose(\n",
        "    [\n",
        "        transforms.Resize(IMAGE_SIZE),\n",
        "        transforms.ToTensor(),\n",
        "        transforms.Normalize(\n",
        "            [0.5 for _ in range(CHANNELS_IMG)], [0.5 for _ in range(CHANNELS_IMG)]\n",
        "        ),\n",
        "    ]\n",
        ")"
      ]
    },
    {
      "cell_type": "code",
      "execution_count": 18,
      "metadata": {
        "id": "2OPmffF62h_D"
      },
      "outputs": [],
      "source": [
        "# checkpoints\n",
        "\n",
        "def save_checkpoints(state, filename=\"monet_wgan_gp.pth.tar\"):\n",
        "  print(\"=> Saving checkpoint\")\n",
        "  torch.save(state, filename)\n",
        "\n",
        "def load_checpoint(checkpoint, gen, disc):\n",
        "  print(\"=> Loading checkpoint\")\n",
        "  gen.load_state_dict(checkpoint['gen'])   # generator\n",
        "  disc.load_state_dict(checkpoint['disc']) # discriminator"
      ]
    },
    {
      "cell_type": "code",
      "execution_count": 19,
      "metadata": {
        "id": "5d9VngKk2h7_"
      },
      "outputs": [],
      "source": [
        "def wgan_generate_images():\n",
        "    noise = tf.random.normal([BATCH_SIZE, Z_DIM])\n",
        "    # predictions = gen.predict(noise)\n",
        "    fake = gen(noise)\n",
        "    return fake\n",
        "\n",
        "def wgan_generate_and_plot_images():\n",
        "    image = wgan_generate_images()\n",
        "    gen_imgs = 0.5 * image + 0.5\n",
        "    fig = plt.figure(figsize=(10, 10))\n",
        "    for i in range(25):\n",
        "        plt.subplot(5, 5, i+1)\n",
        "        plt.imshow(gen_imgs[i, :, :, :])\n",
        "        plt.axis('off')\n",
        "    plt.show()"
      ]
    },
    {
      "cell_type": "code",
      "execution_count": 20,
      "metadata": {
        "colab": {
          "base_uri": "https://localhost:8080/"
        },
        "id": "AKCF8Tr-207O",
        "outputId": "b5ac8e89-e4b2-40ca-82d5-25a3cd59d2b5"
      },
      "outputs": [
        {
          "name": "stdout",
          "output_type": "stream",
          "text": [
            "rm: cannot remove '../ImageGeneration/': No such file or directory\n",
            "rm: cannot remove '../.ipynb_checkpoints/': No such file or directory\n",
            "rm: cannot remove '../.git/': No such file or directory\n"
          ]
        }
      ],
      "source": [
        "!rm -r ../ImageGeneration/\n",
        "!rm -r ../.ipynb_checkpoints/\n",
        "!rm -r ../.git/"
      ]
    },
    {
      "cell_type": "code",
      "execution_count": 23,
      "metadata": {
        "id": "onoyF2ey204E"
      },
      "outputs": [],
      "source": [
        "# make sure to not have image_at_epoch_0010.jpg in the folder\n",
        "\n",
        "# dataset = datasets.ImageFolder(root=\"/content/ImageGeneration/\", transform=transforms)\n",
        "# dataloader = DataLoader(dataset, batch_size=BATCH_SIZE, shuffle=True)\n",
        "gen = Generator(Z_DIM, CHANNELS_IMG, FEATURES_GEN).to(device)\n",
        "disc = Discriminator(CHANNELS_IMG, FEATURES_DISC).to(device)\n",
        "initialize_weights(gen)\n",
        "initialize_weights(disc)\n",
        "\n",
        "opt_gen = optim.Adam(gen.parameters(), lr=GENERATOR_LEARNING_RATE, betas=(0.0, 0.9))\n",
        "opt_disc = optim.Adam(disc.parameters(), lr=DISCRIMINATOR_LEARNING_RATE, betas=(0.0, 0.9))\n",
        "\n",
        "fixed_noise = torch.randn(32, Z_DIM, 1, 1).to(device)\n",
        "# writer_real = SummaryWriter(f\"logs/real\")\n",
        "# writer_fake = SummaryWriter(f\"logs/fake\")\n",
        "step = 0"
      ]
    },
    {
      "cell_type": "code",
      "execution_count": null,
      "metadata": {
        "id": "TwTkJc1S201f"
      },
      "outputs": [],
      "source": [
        "# print(len(dataset))\n",
        "# print(len(dataset[0]))\n",
        "# print((dataset[0][0]), \"\\n\")\n",
        "# print((dataset[0][0][0]), \"\\n\")\n",
        "# print((dataset[0][0][0][0]), \"\\n\")"
      ]
    },
    {
      "cell_type": "code",
      "execution_count": null,
      "metadata": {
        "id": "Zv07dvLa20yz"
      },
      "outputs": [],
      "source": [
        "# # show some samples\n",
        "# fig = plt.figure(figsize=(4, 4))\n",
        "\n",
        "# for i in range(4):\n",
        "#   sample = dataset[i][0].numpy()\n",
        "\n",
        "#   sample = sample.transpose(1,2,0)\n",
        "\n",
        "#   sample = (sample[:, :, :] * 127.5 + 127.5).astype(np.int8)\n",
        "\n",
        "\n",
        "#   plt.subplot(2, 2, i+1)\n",
        "#   plt.imshow(sample)\n",
        "#   plt.axis('off')\n",
        "# plt.show()"
      ]
    },
    {
      "cell_type": "code",
      "execution_count": null,
      "metadata": {
        "id": "orXdszPg20vk"
      },
      "outputs": [],
      "source": [
        "# show some samples\n",
        "plt.imshow((dataset[1][0][2]))\n",
        "plt.axis('off')\n",
        "plt.show()"
      ]
    },
    {
      "cell_type": "code",
      "execution_count": 24,
      "metadata": {
        "colab": {
          "base_uri": "https://localhost:8080/"
        },
        "id": "unNqJmABjFCj",
        "outputId": "26700388-f61e-48fc-91e7-ef152bd5b768"
      },
      "outputs": [
        {
          "data": {
            "text/plain": [
              "Generator(\n",
              "  (net): Sequential(\n",
              "    (0): Sequential(\n",
              "      (0): ConvTranspose2d(100, 1024, kernel_size=(4, 4), stride=(1, 1), bias=False)\n",
              "      (1): BatchNorm2d(1024, eps=1e-05, momentum=0.1, affine=True, track_running_stats=True)\n",
              "      (2): ReLU()\n",
              "    )\n",
              "    (1): Sequential(\n",
              "      (0): ConvTranspose2d(1024, 512, kernel_size=(4, 4), stride=(2, 2), padding=(1, 1), bias=False)\n",
              "      (1): BatchNorm2d(512, eps=1e-05, momentum=0.1, affine=True, track_running_stats=True)\n",
              "      (2): ReLU()\n",
              "    )\n",
              "    (2): Sequential(\n",
              "      (0): ConvTranspose2d(512, 256, kernel_size=(4, 4), stride=(2, 2), padding=(1, 1), bias=False)\n",
              "      (1): BatchNorm2d(256, eps=1e-05, momentum=0.1, affine=True, track_running_stats=True)\n",
              "      (2): ReLU()\n",
              "    )\n",
              "    (3): Sequential(\n",
              "      (0): ConvTranspose2d(256, 128, kernel_size=(4, 4), stride=(2, 2), padding=(1, 1), bias=False)\n",
              "      (1): BatchNorm2d(128, eps=1e-05, momentum=0.1, affine=True, track_running_stats=True)\n",
              "      (2): ReLU()\n",
              "    )\n",
              "    (4): ConvTranspose2d(128, 3, kernel_size=(4, 4), stride=(2, 2), padding=(1, 1))\n",
              "    (5): Tanh()\n",
              "  )\n",
              ")"
            ]
          },
          "execution_count": 24,
          "metadata": {},
          "output_type": "execute_result"
        }
      ],
      "source": [
        "gen.train()"
      ]
    },
    {
      "cell_type": "code",
      "execution_count": 25,
      "metadata": {
        "colab": {
          "base_uri": "https://localhost:8080/"
        },
        "id": "SoosLkAw2h5R",
        "outputId": "4be5a025-568c-44b9-fff1-4e9357b18f7d"
      },
      "outputs": [
        {
          "data": {
            "text/plain": [
              "Discriminator(\n",
              "  (disc): Sequential(\n",
              "    (0): Conv2d(3, 64, kernel_size=(4, 4), stride=(2, 2), padding=(1, 1))\n",
              "    (1): LeakyReLU(negative_slope=0.2)\n",
              "    (2): Sequential(\n",
              "      (0): Conv2d(64, 128, kernel_size=(4, 4), stride=(2, 2), padding=(1, 1), bias=False)\n",
              "      (1): InstanceNorm2d(128, eps=1e-05, momentum=0.1, affine=True, track_running_stats=False)\n",
              "      (2): LeakyReLU(negative_slope=0.2)\n",
              "    )\n",
              "    (3): Sequential(\n",
              "      (0): Conv2d(128, 256, kernel_size=(4, 4), stride=(2, 2), padding=(1, 1), bias=False)\n",
              "      (1): InstanceNorm2d(256, eps=1e-05, momentum=0.1, affine=True, track_running_stats=False)\n",
              "      (2): LeakyReLU(negative_slope=0.2)\n",
              "    )\n",
              "    (4): Sequential(\n",
              "      (0): Conv2d(256, 512, kernel_size=(4, 4), stride=(2, 2), padding=(1, 1), bias=False)\n",
              "      (1): InstanceNorm2d(512, eps=1e-05, momentum=0.1, affine=True, track_running_stats=False)\n",
              "      (2): LeakyReLU(negative_slope=0.2)\n",
              "    )\n",
              "    (5): Conv2d(512, 1, kernel_size=(4, 4), stride=(2, 2))\n",
              "  )\n",
              ")"
            ]
          },
          "execution_count": 25,
          "metadata": {},
          "output_type": "execute_result"
        }
      ],
      "source": [
        "\n",
        "disc.train()"
      ]
    },
    {
      "cell_type": "code",
      "execution_count": null,
      "metadata": {
        "id": "uIOZZ-tz3Qq4"
      },
      "outputs": [],
      "source": [
        "EPOCHS = 150"
      ]
    },
    {
      "cell_type": "code",
      "execution_count": null,
      "metadata": {
        "id": "oZPq1aIU3Qob"
      },
      "outputs": [],
      "source": [
        "!PYTORCH_CUDA_ALLOC_CONF=expandable_segments:True\n",
        "!mkdir ../../outputs\n",
        "!mkdir ../../outputs/second_wgan"
      ]
    },
    {
      "cell_type": "code",
      "execution_count": null,
      "metadata": {
        "id": "6U-TrCWl3Ql0"
      },
      "outputs": [],
      "source": [
        "noise_dim = 100\n",
        "num_examples_to_generate = 16\n",
        "\n",
        "# You will reuse this seed overtime (so it's easier)\n",
        "# to visualize progress in the animated GIF)\n",
        "\n",
        " # keep seperate from training to not reset seed incase of running training cell > 1\n",
        "seed = torch.randn(num_examples_to_generate, noise_dim, 1, 1).to(device)"
      ]
    },
    {
      "cell_type": "code",
      "execution_count": null,
      "metadata": {
        "id": "RNDad0U93c7d"
      },
      "outputs": [],
      "source": [
        "#training\n",
        "\n",
        "for epoch in range(EPOCHS):\n",
        "  for batch_idx, (real_img, _) in enumerate(dataloader):\n",
        "    real = real_img.to(device)\n",
        "    if len(real) < 32: # sometimes had tensor of size 12\n",
        "        break\n",
        "\n",
        "    for _ in range(DISC_ITERATIONS):\n",
        "      #                           32,\n",
        "      noise = torch.randn(BATCH_SIZE, Z_DIM, 1, 1).to(device)\n",
        "      fake = gen(noise)\n",
        "      disc_real = disc(real).reshape(-1)\n",
        "      disc_fake = disc(fake).reshape(-1)\n",
        "      gp = gradient_penalty(disc, real, fake, device=device)\n",
        "      loss_disc = (\n",
        "          -(torch.mean(disc_real) - torch.mean(disc_fake)) + LAMBDA_GP*gp\n",
        "      )\n",
        "      disc.zero_grad()\n",
        "      loss_disc.backward(retain_graph=True)\n",
        "      opt_disc.step()\n",
        "\n",
        "    output = disc(fake).reshape(-1)\n",
        "    loss_gen = -torch.mean(output)\n",
        "    gen.zero_grad()\n",
        "    loss_gen.backward()\n",
        "    opt_gen.step()\n",
        "\n",
        "    #generate pics\n",
        "    with torch.no_grad():\n",
        "        # fake = gen(seed)\n",
        "        img_grid_fake = torchvision.utils.make_grid(\n",
        "          fake[:5], normalize=True\n",
        "        )\n",
        "        plt.imshow(img_grid_fake.cpu().detach().numpy().transpose(1, 2, 0))\n",
        "        plt.axis('off')\n",
        "        if epoch % 5 == 0 and batch_idx == 0:\n",
        "          print(\n",
        "              f\"EPOCH [{epoch}/{EPOCHS}] Batch {batch_idx}/{len(dataloader)} Loss D: {loss_disc:.4f}, loss G: {loss_gen:.4f}\"\n",
        "          )\n",
        "          plt.show()\n",
        "\n",
        "    # generate with seed and save GIF\n",
        "    with torch.no_grad():\n",
        "        if epoch % 2 == 0 and batch_idx == 0:\n",
        "          fake = gen(seed)\n",
        "          img_grid_fake = torchvision.utils.make_grid(\n",
        "            fake[:5], normalize=True\n",
        "          )\n",
        "          plt.imshow(img_grid_fake.cpu().detach().numpy().transpose(1, 2, 0))\n",
        "          plt.axis('off')\n",
        "          plt.savefig('/content/outputs/second_wgan/image_at_epoch_{:04d}.png'.format(epoch + 1))\n",
        "\n",
        "    step += 1"
      ]
    },
    {
      "cell_type": "code",
      "execution_count": null,
      "metadata": {
        "id": "t5gC8GFj3c4Z"
      },
      "outputs": [],
      "source": [
        "anim_file = 'wgan.gif'\n",
        "\n",
        "with imageio.get_writer(anim_file, mode='I') as writer:\n",
        "  filenames = glob.glob('../../outputs/first_wgan/image*.png')\n",
        "  filenames = sorted(filenames)\n",
        "  for filename in filenames:\n",
        "    image = imageio.imread(filename)\n",
        "    writer.append_data(image)"
      ]
    },
    {
      "cell_type": "code",
      "execution_count": null,
      "metadata": {
        "id": "GIwvJixe3cw8"
      },
      "outputs": [],
      "source": [
        "import tensorflow_docs.vis.embed as embed\n",
        "embed.embed_file(anim_file)"
      ]
    },
    {
      "cell_type": "code",
      "execution_count": null,
      "metadata": {
        "id": "IbpYsaVZ3ct2"
      },
      "outputs": [],
      "source": []
    },
    {
      "cell_type": "code",
      "execution_count": null,
      "metadata": {
        "id": "GwH0c6dJ3Qiy"
      },
      "outputs": [],
      "source": []
    }
  ],
  "metadata": {
    "accelerator": "GPU",
    "colab": {
      "provenance": []
    },
    "kernelspec": {
      "display_name": "Python 3",
      "language": "python",
      "name": "python3"
    },
    "language_info": {
      "codemirror_mode": {
        "name": "ipython",
        "version": 3
      },
      "file_extension": ".py",
      "mimetype": "text/x-python",
      "name": "python",
      "nbconvert_exporter": "python",
      "pygments_lexer": "ipython3",
      "version": "3.5.2"
    }
  },
  "nbformat": 4,
  "nbformat_minor": 0
}
